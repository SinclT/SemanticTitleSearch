{
 "cells": [
  {
   "cell_type": "code",
   "execution_count": 1,
   "id": "84002d70",
   "metadata": {},
   "outputs": [],
   "source": [
    "import pandas as pd\n",
    "from sentence_transformers import SentenceTransformer\n",
    "from sklearn.metrics.pairwise import cosine_similarity\n",
    "import itertools\n",
    "import pickle\n",
    "from collections import defaultdict"
   ]
  },
  {
   "cell_type": "code",
   "execution_count": 2,
   "id": "b746bee1",
   "metadata": {},
   "outputs": [],
   "source": [
    "list1 = pd.read_csv('search_titles.csv')\n",
    "list2 = pd.read_csv('job_titles.csv',header=None)\n",
    "list2.columns = ['job_title']"
   ]
  },
  {
   "cell_type": "markdown",
   "id": "9fe795b8",
   "metadata": {},
   "source": [
    "#### SBERT"
   ]
  },
  {
   "cell_type": "code",
   "execution_count": 3,
   "id": "708b5377",
   "metadata": {},
   "outputs": [],
   "source": [
    "class SemanticJobMatcher:\n",
    "    \"\"\"\n",
    "    Semantic Job Matcher is created with a fit and predict method.\n",
    "    The fit method takes two input lists. The method \n",
    "    \"\"\"\n",
    "    \n",
    "    \n",
    "    def __init__(self, topn=3):\n",
    "        self.model = SentenceTransformer('sentence-transformers/bert-base-nli-mean-tokens')\n",
    "        self.topn = topn\n",
    "    def fit(self, list1, list2):\n",
    "        self.embedded_titles = [self.model.encode(title,show_progress_bar=True) for title in [list1, list2]]\n",
    "        self.permutations = pd.DataFrame(list(itertools.product(list1,list2)),columns=['SearchTitle','JobTitle'])\n",
    "        \n",
    "        \n",
    "    def predict(self, topn=3):\n",
    "        self.permutations['cosine_scores'] = cosine_similarity(self.embedded_titles[0],self.embedded_titles[1]).reshape(-1,1)\n",
    "        self.permutations['ranking'] = self.permutations.groupby('SearchTitle')['cosine_scores'].rank(method='dense', ascending=False)\n",
    "        \n",
    "        filtered =  self.permutations[self.permutations['ranking']<=self.topn].sort_values(['SearchTitle','ranking'])\n",
    "        titles_dict =  filtered.pivot_table('JobTitle',\n",
    "                 index='SearchTitle',\n",
    "                 columns='ranking',\n",
    "                 aggfunc='max').to_dict('index')\n",
    "        scores_dict =  filtered.pivot_table('cosine_scores',\n",
    "                 index='SearchTitle',\n",
    "                 columns='ranking',\n",
    "                 aggfunc='max').to_dict('index')\n",
    "        \n",
    "        \n",
    "        output = defaultdict(list)\n",
    "\n",
    "        for d in (titles_dict, scores_dict):\n",
    "            for key, value in d.items():\n",
    "                output[key].append(value)\n",
    "                \n",
    "        return output\n",
    "\n",
    "        "
   ]
  },
  {
   "cell_type": "code",
   "execution_count": 4,
   "id": "e7a8f772",
   "metadata": {},
   "outputs": [
    {
     "data": {
      "application/vnd.jupyter.widget-view+json": {
       "model_id": "b04c5bb885e7455da56215bee4b2674a",
       "version_major": 2,
       "version_minor": 0
      },
      "text/plain": [
       "Batches:   0%|          | 0/4 [00:00<?, ?it/s]"
      ]
     },
     "metadata": {},
     "output_type": "display_data"
    },
    {
     "data": {
      "application/vnd.jupyter.widget-view+json": {
       "model_id": "217a04551211442699a65b80cb69eb81",
       "version_major": 2,
       "version_minor": 0
      },
      "text/plain": [
       "Batches:   0%|          | 0/47 [00:00<?, ?it/s]"
      ]
     },
     "metadata": {},
     "output_type": "display_data"
    }
   ],
   "source": [
    "model = SemanticJobMatcher()\n",
    "model.fit(list(list1['job_title'].iloc[0:100]),list(list2['job_title'].iloc[0:1500]))"
   ]
  },
  {
   "cell_type": "code",
   "execution_count": null,
   "id": "35d7a4a8",
   "metadata": {},
   "outputs": [],
   "source": [
    "perms = model.predict(topn=3)"
   ]
  },
  {
   "cell_type": "code",
   "execution_count": null,
   "id": "188c7515",
   "metadata": {},
   "outputs": [],
   "source": [
    "perms"
   ]
  },
  {
   "cell_type": "code",
   "execution_count": null,
   "id": "58126d06",
   "metadata": {},
   "outputs": [],
   "source": []
  }
 ],
 "metadata": {
  "kernelspec": {
   "display_name": "Python 3 (ipykernel)",
   "language": "python",
   "name": "python3"
  },
  "language_info": {
   "codemirror_mode": {
    "name": "ipython",
    "version": 3
   },
   "file_extension": ".py",
   "mimetype": "text/x-python",
   "name": "python",
   "nbconvert_exporter": "python",
   "pygments_lexer": "ipython3",
   "version": "3.9.8"
  }
 },
 "nbformat": 4,
 "nbformat_minor": 5
}
