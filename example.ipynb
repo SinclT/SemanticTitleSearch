{
 "cells": [
  {
   "cell_type": "code",
   "execution_count": 1,
   "id": "84002d70",
   "metadata": {},
   "outputs": [],
   "source": [
    "import pandas as pd\n",
    "from matcher import SemanticJobMatcher\n",
    "from pprint import pprint"
   ]
  },
  {
   "cell_type": "code",
   "execution_count": 2,
   "id": "b746bee1",
   "metadata": {},
   "outputs": [],
   "source": [
    "list1 = pd.read_csv('data/search_titles.csv')\n",
    "list2 = pd.read_csv('data/job_titles.csv',header=None)\n",
    "list2.columns = ['job_title']\n",
    "\n",
    "\n",
    "search_titles = list(list1['job_title'])\n",
    "job_titles = list(list2['job_title'])"
   ]
  },
  {
   "cell_type": "markdown",
   "id": "0d4ac5db",
   "metadata": {},
   "source": [
    "#### Fit semantic matcher mod"
   ]
  },
  {
   "cell_type": "code",
   "execution_count": null,
   "id": "46eea912",
   "metadata": {},
   "outputs": [
    {
     "data": {
      "application/vnd.jupyter.widget-view+json": {
       "model_id": "0ccbd8843f9140c585e77452c6ed83d1",
       "version_major": 2,
       "version_minor": 0
      },
      "text/plain": [
       "Batches:   0%|          | 0/367 [00:00<?, ?it/s]"
      ]
     },
     "metadata": {},
     "output_type": "display_data"
    },
    {
     "data": {
      "application/vnd.jupyter.widget-view+json": {
       "model_id": "145a9be1bdc448f49e0ff7ed18d1bc56",
       "version_major": 2,
       "version_minor": 0
      },
      "text/plain": [
       "Batches:   0%|          | 0/554 [00:00<?, ?it/s]"
      ]
     },
     "metadata": {},
     "output_type": "display_data"
    }
   ],
   "source": [
    "model = SemanticJobMatcher(topn=3)\n",
    "model.fit(search_titles,job_titles)"
   ]
  },
  {
   "cell_type": "code",
   "execution_count": null,
   "id": "1e74c1ae",
   "metadata": {},
   "outputs": [],
   "source": [
    "perms = model.predict()\n",
    "pprint(perms)"
   ]
  },
  {
   "cell_type": "code",
   "execution_count": null,
   "id": "4f986074",
   "metadata": {},
   "outputs": [],
   "source": []
  }
 ],
 "metadata": {
  "kernelspec": {
   "display_name": "Python 3 (ipykernel)",
   "language": "python",
   "name": "python3"
  },
  "language_info": {
   "codemirror_mode": {
    "name": "ipython",
    "version": 3
   },
   "file_extension": ".py",
   "mimetype": "text/x-python",
   "name": "python",
   "nbconvert_exporter": "python",
   "pygments_lexer": "ipython3",
   "version": "3.9.8"
  }
 },
 "nbformat": 4,
 "nbformat_minor": 5
}
